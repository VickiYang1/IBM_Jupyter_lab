{
  "metadata": {
    "kernelspec": {
      "name": "python",
      "display_name": "Python (Pyodide)",
      "language": "python"
    },
    "language_info": {
      "codemirror_mode": {
        "name": "python",
        "version": 3
      },
      "file_extension": ".py",
      "mimetype": "text/x-python",
      "name": "python",
      "nbconvert_exporter": "python",
      "pygments_lexer": "ipython3",
      "version": "3.8"
    }
  },
  "nbformat_minor": 5,
  "nbformat": 4,
  "cells": [
    {
      "id": "932681b3-c89e-4fbc-96e4-4a5f82f2f984",
      "cell_type": "markdown",
      "source": "# Data Science Tools and Ecosystem",
      "metadata": {}
    },
    {
      "id": "82bf8636-5630-46db-865c-5ae017a776e2",
      "cell_type": "markdown",
      "source": "In this notebook, Data Science Tools and Ecosystem are summarized",
      "metadata": {}
    },
    {
      "id": "659f5f8c-f094-45ad-844c-68c5486a302e",
      "cell_type": "markdown",
      "source": "**Objectives:**\n\n- List popular languages for Data Science  \n- Identify commonly used libraries by Data Scientists  \n- Describe Data Science tools and ecosystem  \n- Demonstrate how to create Markdown cells in Jupyter  \n",
      "metadata": {}
    },
    {
      "id": "a35b1051-6de2-46f5-9e43-4e0eb003d3ca",
      "cell_type": "markdown",
      "source": "Some of the popular languages that Data Scientists use are:\n1. Python\n2. Java\n3. R",
      "metadata": {}
    },
    {
      "id": "a5277ae9-f665-4aec-bc1e-4b2e6e87d91d",
      "cell_type": "markdown",
      "source": "Some of the commonly used libraries used by Data Scientists include:\n1. Pandas\n2. Numpy\n3. MatPlotLib",
      "metadata": {}
    },
    {
      "id": "9f480670-dbb1-4583-b42b-9f5c7d218084",
      "cell_type": "markdown",
      "source": "# Data Science Tools",
      "metadata": {}
    },
    {
      "id": "f4538e79-b401-4c42-b80c-f141ac3ac183",
      "cell_type": "markdown",
      "source": "### Below are a few examples of evaluating arithmetic expressions in Python",
      "metadata": {}
    },
    {
      "id": "cf247d52-bd1c-4ede-97aa-110ce5b9e801",
      "cell_type": "code",
      "source": "# This a simple arithmetic expression to mutiply then add integers\n(3*4)+5",
      "metadata": {
        "trusted": true
      },
      "outputs": [
        {
          "execution_count": 4,
          "output_type": "execute_result",
          "data": {
            "text/plain": "17"
          },
          "metadata": {}
        }
      ],
      "execution_count": 4
    },
    {
      "id": "09a91bbd-59bd-40a2-936c-fc03516a75ed",
      "cell_type": "code",
      "source": "#This will convert 200 minutes to hours by diving by 60\n200 /60",
      "metadata": {
        "trusted": true
      },
      "outputs": [
        {
          "execution_count": 6,
          "output_type": "execute_result",
          "data": {
            "text/plain": "3.3333333333333335"
          },
          "metadata": {}
        }
      ],
      "execution_count": 6
    },
    {
      "id": "747e8bc6-c98d-4fef-b364-f3f1f95a4ca4",
      "cell_type": "markdown",
      "source": "## Author\n\nVicki Yang",
      "metadata": {}
    },
    {
      "id": "6b579cc3-1bff-4790-8095-93d9df782a7c",
      "cell_type": "code",
      "source": "",
      "metadata": {
        "trusted": true
      },
      "outputs": [],
      "execution_count": null
    },
    {
      "id": "79bcd648-943a-4fa9-92b0-5b57d6174112",
      "cell_type": "code",
      "source": "",
      "metadata": {
        "trusted": true
      },
      "outputs": [],
      "execution_count": null
    }
  ]
}